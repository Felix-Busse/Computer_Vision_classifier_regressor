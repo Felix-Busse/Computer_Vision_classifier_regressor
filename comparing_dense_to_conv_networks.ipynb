{
 "cells": [
  {
   "cell_type": "markdown",
   "id": "fde41bbd",
   "metadata": {},
   "source": [
    "# Analyzing images\n",
    "Comparing networks of dense layers to convolutional networks on simple image analyses."
   ]
  },
  {
   "cell_type": "code",
   "execution_count": 1,
   "id": "6f9e3693",
   "metadata": {},
   "outputs": [
    {
     "name": "stderr",
     "output_type": "stream",
     "text": [
      "2023-04-04 12:17:45.793713: I tensorflow/tsl/cuda/cudart_stub.cc:28] Could not find cuda drivers on your machine, GPU will not be used.\n",
      "2023-04-04 12:17:46.223691: I tensorflow/tsl/cuda/cudart_stub.cc:28] Could not find cuda drivers on your machine, GPU will not be used.\n",
      "2023-04-04 12:17:46.225938: I tensorflow/core/platform/cpu_feature_guard.cc:182] This TensorFlow binary is optimized to use available CPU instructions in performance-critical operations.\n",
      "To enable the following instructions: AVX2 FMA, in other operations, rebuild TensorFlow with the appropriate compiler flags.\n",
      "2023-04-04 12:17:47.627246: W tensorflow/compiler/tf2tensorrt/utils/py_utils.cc:38] TF-TRT Warning: Could not find TensorRT\n"
     ]
    }
   ],
   "source": [
    "import matplotlib.pyplot as plt\n",
    "import numpy as np\n",
    "from tensorflow import keras"
   ]
  },
  {
   "cell_type": "markdown",
   "id": "3ca731fd",
   "metadata": {},
   "source": [
    "## Generator functions for sample images\n",
    "Defining functions that generate images with circles/squares in it. See docstring for details"
   ]
  },
  {
   "cell_type": "code",
   "execution_count": 137,
   "id": "d1b06a38",
   "metadata": {},
   "outputs": [],
   "source": [
    "def create_image_w_square(im_size_x=200, im_size_y=200, fill_color=[255, 255, 255],\n",
    "                          sq_size=30, sq_color=[255, 128, 0]):\n",
    "    '''Creates a numpy array with three dimensions, which represents an color image.\n",
    "    The picture will hold a square on an arbitary position.\n",
    "    Size of image and square, as well as the color of background and square my be specified.\n",
    "    Besides the image the position of the square (its center position) and its area in pixels is returned'''\n",
    "    # Generating image with background color\n",
    "    image = np.full(shape=(im_size_x, im_size_y, 3), fill_value=fill_color)\n",
    "    # Determing random position for square\n",
    "    coord_x = np.random.randint(low=0, high=(im_size_x - sq_size))\n",
    "    coord_y = np.random.randint(low=0, high=(im_size_y - sq_size))\n",
    "    # Filling square in the image by scpecifying its color value on all three layers\n",
    "    for i in range(3):\n",
    "        image[coord_x:coord_x + sq_size, coord_y:coord_y + sq_size, i] = sq_color[i]\n",
    "    return image, (coord_x + sq_size/2, coord_y + sq_size/2), sq_size**2\n",
    "\n",
    "def create_image_w_circle(im_size_x=200, im_size_y=200, fill_color=[255, 255, 255],\n",
    "                          circle_r=17, circle_color=[255, 128, 0]):\n",
    "    '''Creates a numpy array with three dimensions, which represents an color image.\n",
    "    The picture will hold a circle on an arbitary position.\n",
    "    Size of image and circle, as well as the color of background and circle my be specified.\n",
    "    Besides the image the position of the circle and its area in pixels is returned'''\n",
    "    # Generating image with background color\n",
    "    image = np.full(shape=(im_size_x, im_size_y, 3), fill_value=fill_color)\n",
    "    # Determing coordinates for center of circle\n",
    "    coord_x = np.random.randint(low=circle_r, high=(im_size_x - circle_r))\n",
    "    coord_y = np.random.randint(low=circle_r, high=(im_size_y - circle_r))\n",
    "    # Filling circle in the image by specifying its color value on all three layers\n",
    "    for i in range(3):\n",
    "        # Creating a meshgrid of image size and than calculate from that, whether position is in circle\n",
    "        mesh = np.meshgrid(range(im_size_y), range(im_size_x))\n",
    "        mesh[0] -= coord_y\n",
    "        mesh[1] -= coord_x\n",
    "        mask = np.sqrt(mesh[0]**2 + mesh[1]**2) < circle_r\n",
    "        # Write new color on image, where pixels are within radius of circle\n",
    "        image[mask, i] = circle_color[i]\n",
    "    return image, (coord_x, coord_y), np.pi*circle_r**2"
   ]
  },
  {
   "cell_type": "markdown",
   "id": "bc61dd38",
   "metadata": {},
   "source": [
    "## Generating sample image 1\n",
    "200 x 200 pixel images, containing same sized squares and circles."
   ]
  },
  {
   "cell_type": "code",
   "execution_count": 138,
   "id": "a0786e0c",
   "metadata": {},
   "outputs": [],
   "source": [
    "# Defining number of samples\n",
    "sample_size = 2000\n",
    "\n",
    "# Filling list with sample images, which contain squares or circles. Holding information about \n",
    "# circle or quare in seperate list.\n",
    "samples = []\n",
    "target = []\n",
    "for i in range(sample_size):\n",
    "    if np.random.randint(low=0, high=2):\n",
    "        image, *_ = create_image_w_square()\n",
    "        samples.append(image)\n",
    "        target.append(1)\n",
    "    else:\n",
    "        image, *_ = create_image_w_circle()\n",
    "        samples.append(image)\n",
    "        target.append(0)"
   ]
  },
  {
   "cell_type": "code",
   "execution_count": null,
   "id": "6b398865",
   "metadata": {},
   "outputs": [],
   "source": []
  }
 ],
 "metadata": {
  "kernelspec": {
   "display_name": "Python 3 (ipykernel)",
   "language": "python",
   "name": "python3"
  },
  "language_info": {
   "codemirror_mode": {
    "name": "ipython",
    "version": 3
   },
   "file_extension": ".py",
   "mimetype": "text/x-python",
   "name": "python",
   "nbconvert_exporter": "python",
   "pygments_lexer": "ipython3",
   "version": "3.10.6"
  }
 },
 "nbformat": 4,
 "nbformat_minor": 5
}
